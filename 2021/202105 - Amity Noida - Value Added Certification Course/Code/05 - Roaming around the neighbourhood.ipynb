{
 "cells": [
  {
   "cell_type": "markdown",
   "id": "1abd8211",
   "metadata": {},
   "source": [
    "<p style=\"text-align: center;\"><img src=\"https://www.python.org/static/community_logos/python-logo-master-v3-TM-flattened.png\" alt=\"\" width=\"444\" height=\"146\" /></p>"
   ]
  },
  {
   "cell_type": "markdown",
   "id": "570d8800",
   "metadata": {},
   "source": [
    "<a class=\"anchor\" id=\"Home\"></a>\n",
    "## Table of Content \n",
    "* [Working Directory in Python](#Working-Directory-in-Python)\n",
    "* [How to know the current working directory](#How-to-know-the-current-working-directory)\n",
    "* [Setting working directory](#Setting-working-directory)\n",
    "* [List objects in the Environment](#List-objects-in-the-Environment)\n",
    "* [Delete an object in Python](#Delete-an-object-in-Python)\n",
    "\n"
   ]
  },
  {
   "cell_type": "markdown",
   "id": "41250d64",
   "metadata": {},
   "source": [
    "### Working Directory in Python <a class=\"anchor\" id=\"Working-Directory-in-Python\"></a>\n",
    "\n",
    "When dealing with files in directories in Python, it is always a good idea to use absolute paths. However, if you are working with relative paths you’ll need to understand the concept of current working directory and how to find or change the current working directory. An absolute path specifies a file or directory location starting from the root directory, while the relative path begins from the current working directory."
   ]
  },
  {
   "cell_type": "markdown",
   "id": "464bbf4a",
   "metadata": {},
   "source": [
    "[Top](#Home)"
   ]
  },
  {
   "cell_type": "markdown",
   "id": "1f3d8fd0",
   "metadata": {},
   "source": [
    "### How to know the current working directory <a class=\"anchor\" id=\"How-to-know-the-current-working-directory\"></a>"
   ]
  },
  {
   "cell_type": "code",
   "execution_count": 1,
   "id": "c2b58e10",
   "metadata": {},
   "outputs": [
    {
     "data": {
      "text/plain": [
       "'C:\\\\Users\\\\Anant Awasthi\\\\OneDrive - Amity University\\\\Value Added Certification Course\\\\Code'"
      ]
     },
     "execution_count": 1,
     "metadata": {},
     "output_type": "execute_result"
    }
   ],
   "source": [
    "import os\n",
    "os.getcwd()"
   ]
  },
  {
   "cell_type": "markdown",
   "id": "1328cf38",
   "metadata": {},
   "source": [
    "[Top](#Home)"
   ]
  },
  {
   "cell_type": "markdown",
   "id": "0ab8449b",
   "metadata": {},
   "source": [
    "### Setting working directory <a class=\"anchor\" id=\"Setting-working-directory\"></a>"
   ]
  },
  {
   "cell_type": "code",
   "execution_count": 6,
   "id": "8b4faab7",
   "metadata": {},
   "outputs": [],
   "source": [
    "import os\n",
    "os.chdir(r'C:\\Users\\Anant Awasthi\\OneDrive - Amity University\\Value Added Certification Course')"
   ]
  },
  {
   "cell_type": "markdown",
   "id": "75d6496a",
   "metadata": {},
   "source": [
    "[Top](#Home)"
   ]
  },
  {
   "cell_type": "code",
   "execution_count": 7,
   "id": "cc034cc6",
   "metadata": {},
   "outputs": [
    {
     "data": {
      "text/plain": [
       "'C:\\\\Users\\\\Anant Awasthi\\\\OneDrive - Amity University\\\\Value Added Certification Course'"
      ]
     },
     "execution_count": 7,
     "metadata": {},
     "output_type": "execute_result"
    }
   ],
   "source": [
    "import os\n",
    "os.getcwd()"
   ]
  },
  {
   "cell_type": "markdown",
   "id": "138f43a6",
   "metadata": {},
   "source": [
    "[Top](#Home)"
   ]
  },
  {
   "cell_type": "markdown",
   "id": "60baf539",
   "metadata": {},
   "source": [
    "### List objects in the Environment <a class=\"anchor\" id=\"List-objects-in-the-Environment\"></a>"
   ]
  },
  {
   "cell_type": "code",
   "execution_count": 8,
   "id": "c828425c",
   "metadata": {},
   "outputs": [
    {
     "data": {
      "text/plain": [
       "['In',\n",
       " 'Out',\n",
       " '_',\n",
       " '_1',\n",
       " '_7',\n",
       " '__',\n",
       " '___',\n",
       " '__builtin__',\n",
       " '__builtins__',\n",
       " '__doc__',\n",
       " '__loader__',\n",
       " '__name__',\n",
       " '__package__',\n",
       " '__spec__',\n",
       " '_dh',\n",
       " '_i',\n",
       " '_i1',\n",
       " '_i2',\n",
       " '_i3',\n",
       " '_i4',\n",
       " '_i5',\n",
       " '_i6',\n",
       " '_i7',\n",
       " '_i8',\n",
       " '_ih',\n",
       " '_ii',\n",
       " '_iii',\n",
       " '_oh',\n",
       " 'exit',\n",
       " 'get_ipython',\n",
       " 'os',\n",
       " 'quit']"
      ]
     },
     "execution_count": 8,
     "metadata": {},
     "output_type": "execute_result"
    }
   ],
   "source": [
    "dir()"
   ]
  },
  {
   "cell_type": "markdown",
   "id": "5db55740",
   "metadata": {},
   "source": [
    "[Top](#Home)"
   ]
  },
  {
   "cell_type": "code",
   "execution_count": 9,
   "id": "f1196bd7",
   "metadata": {},
   "outputs": [
    {
     "name": "stdout",
     "output_type": "stream",
     "text": [
      "In\n",
      "Out\n",
      "exit\n",
      "os\n",
      "quit\n"
     ]
    }
   ],
   "source": [
    "for i in dir():\n",
    "    if '_' not in i:\n",
    "        print(i)"
   ]
  },
  {
   "cell_type": "markdown",
   "id": "7e9e1009",
   "metadata": {},
   "source": [
    "[Top](#Home)"
   ]
  },
  {
   "cell_type": "markdown",
   "id": "9cce3706",
   "metadata": {},
   "source": [
    "### Delete objects in Python <a class=\"anchor\" id=\"Delete-an-object-in-Python\"></a>"
   ]
  },
  {
   "cell_type": "code",
   "execution_count": 6,
   "id": "9071d493",
   "metadata": {},
   "outputs": [],
   "source": [
    "#del <object name>\n",
    "#del <object name1>, del <object name2>, del <object name3>"
   ]
  },
  {
   "cell_type": "code",
   "execution_count": 10,
   "id": "a372819f",
   "metadata": {},
   "outputs": [],
   "source": [
    "a = 4\n",
    "b = 6\n",
    "c = 12\n",
    "d = a*b"
   ]
  },
  {
   "cell_type": "code",
   "execution_count": 11,
   "id": "799ca4ab",
   "metadata": {},
   "outputs": [
    {
     "name": "stdout",
     "output_type": "stream",
     "text": [
      "In\n",
      "Out\n",
      "a\n",
      "b\n",
      "c\n",
      "d\n",
      "exit\n",
      "i\n",
      "os\n",
      "quit\n"
     ]
    }
   ],
   "source": [
    "for i in dir():\n",
    "    if '_' not in i:\n",
    "        print(i)"
   ]
  },
  {
   "cell_type": "code",
   "execution_count": 12,
   "id": "bf98e50c",
   "metadata": {},
   "outputs": [],
   "source": [
    "del a"
   ]
  },
  {
   "cell_type": "code",
   "execution_count": 13,
   "id": "496e846f",
   "metadata": {},
   "outputs": [
    {
     "name": "stdout",
     "output_type": "stream",
     "text": [
      "In\n",
      "Out\n",
      "b\n",
      "c\n",
      "d\n",
      "exit\n",
      "i\n",
      "os\n",
      "quit\n"
     ]
    }
   ],
   "source": [
    "for i in dir():\n",
    "    if '_' not in i:\n",
    "        print(i)"
   ]
  },
  {
   "cell_type": "code",
   "execution_count": 14,
   "id": "50adb2d5",
   "metadata": {},
   "outputs": [],
   "source": [
    "del b,c,d"
   ]
  },
  {
   "cell_type": "code",
   "execution_count": 15,
   "id": "d38ef574",
   "metadata": {},
   "outputs": [
    {
     "name": "stdout",
     "output_type": "stream",
     "text": [
      "In\n",
      "Out\n",
      "exit\n",
      "i\n",
      "os\n",
      "quit\n"
     ]
    }
   ],
   "source": [
    "for i in dir():\n",
    "    if '_' not in i:\n",
    "        print(i)"
   ]
  },
  {
   "cell_type": "markdown",
   "id": "335b2a9e",
   "metadata": {},
   "source": [
    "[Top](#Home)"
   ]
  }
 ],
 "metadata": {
  "kernelspec": {
   "display_name": "Python 3",
   "language": "python",
   "name": "python3"
  },
  "language_info": {
   "codemirror_mode": {
    "name": "ipython",
    "version": 3
   },
   "file_extension": ".py",
   "mimetype": "text/x-python",
   "name": "python",
   "nbconvert_exporter": "python",
   "pygments_lexer": "ipython3",
   "version": "3.7.10"
  }
 },
 "nbformat": 4,
 "nbformat_minor": 5
}

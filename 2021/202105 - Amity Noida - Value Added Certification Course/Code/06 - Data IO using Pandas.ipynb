{
 "cells": [
  {
   "cell_type": "markdown",
   "id": "1abd8211",
   "metadata": {},
   "source": [
    "<p style=\"text-align: center;\"><img src=\"https://www.python.org/static/community_logos/python-logo-master-v3-TM-flattened.png\" alt=\"\" width=\"444\" height=\"146\" /></p>"
   ]
  },
  {
   "cell_type": "markdown",
   "id": "570d8800",
   "metadata": {},
   "source": [
    "<a class=\"anchor\" id=\"Home\"></a>\n",
    "## Table of Content \n",
    "* [Introduction](#Introduction)\n",
    "* [Documentation](#Documentation)\n",
    "* [Importing required libraries](#Importing-required-libraries)\n",
    "* [Tutorial](#Tutorial)\n",
    "* [Data import and export using Pandas](#Data-import-and-export-using-Pandas)\n",
    "* [Importing an Excel with Pandas](#Importing-an-Excel-with-Pandas)\n",
    "* [Exporting a dataframe to Excel using Pandas](#Exporting-a-dataframe-to-Excel-using-Pandas)"
   ]
  },
  {
   "cell_type": "markdown",
   "id": "7cefad6a",
   "metadata": {},
   "source": [
    "### The Pandas\n",
    "\n",
    "<p><img src=\"https://miro.medium.com/max/399/0*JQFkxyMKuMvxfjgd.png\" alt=\"\" width=\"399\" height=\"207\" /></p>"
   ]
  },
  {
   "cell_type": "markdown",
   "id": "74b4e07f",
   "metadata": {},
   "source": [
    "### Introduction <a class=\"anchor\" id=\"Introduction\"></a>\n",
    "Pandas is an open-source library that is built on top of NumPy library. It is a Python package that offers various data structures and operations for manipulating numerical data and time series. It is mainly popular for importing and analyzing data much easier. Pandas is fast and it has high-performance & productivity for users."
   ]
  },
  {
   "cell_type": "markdown",
   "id": "1184dc30",
   "metadata": {},
   "source": [
    "[Top](#Home)"
   ]
  },
  {
   "cell_type": "markdown",
   "id": "308471a1",
   "metadata": {},
   "source": [
    "### Documentation <a class=\"anchor\" id=\"Documentation\"></a>\n",
    "https://pandas.pydata.org/pandas-docs/stable/index.html"
   ]
  },
  {
   "cell_type": "markdown",
   "id": "2dd907e7",
   "metadata": {},
   "source": [
    "[Top](#Home)"
   ]
  },
  {
   "cell_type": "markdown",
   "id": "18002866",
   "metadata": {},
   "source": [
    "### Importing required libraries <a class=\"anchor\" id=\"Importing-required-libraries\"></a>"
   ]
  },
  {
   "cell_type": "code",
   "execution_count": 1,
   "id": "38ab01a0",
   "metadata": {},
   "outputs": [],
   "source": [
    "import pandas as pd #Import and manipulate data\n",
    "import os #Setting working directory and operating system related activities\n",
    "from IPython.display import YouTubeVideo"
   ]
  },
  {
   "cell_type": "markdown",
   "id": "66240873",
   "metadata": {},
   "source": [
    "[Top](#Home)"
   ]
  },
  {
   "cell_type": "markdown",
   "id": "c2fc9025",
   "metadata": {},
   "source": [
    "### Tutorial <a class=\"anchor\" id=\"Tutorial\"></a>"
   ]
  },
  {
   "cell_type": "code",
   "execution_count": 2,
   "id": "dd94dd82",
   "metadata": {},
   "outputs": [
    {
     "data": {
      "image/jpeg": "[encoded data removed]",
      "text/html": [
       "\n",
       "        <iframe\n",
       "            width=\"960\"\n",
       "            height=\"540\"\n",
       "            src=\"https://www.youtube.com/embed/UB3DE5Bgfx4\"\n",
       "            frameborder=\"0\"\n",
       "            allowfullscreen\n",
       "        ></iframe>\n",
       "        "
      ],
      "text/plain": [
       "<IPython.lib.display.YouTubeVideo at 0x15c06b03b88>"
      ]
     },
     "execution_count": 2,
     "metadata": {},
     "output_type": "execute_result"
    }
   ],
   "source": [
    "YouTubeVideo('UB3DE5Bgfx4', width=960, height=540)"
   ]
  },
  {
   "cell_type": "markdown",
   "id": "fa086f94",
   "metadata": {},
   "source": [
    "[Top](#Home)"
   ]
  },
  {
   "cell_type": "markdown",
   "id": "767e0517",
   "metadata": {},
   "source": [
    "### Data import and export using Pandas <a class=\"anchor\" id=\"Data-import-and-export-using-Pandas\"></a>"
   ]
  },
  {
   "cell_type": "markdown",
   "id": "19dcfac8",
   "metadata": {},
   "source": [
    "<table class=\"colwidths-given table\">\n",
    "<thead>\n",
    "<tr class=\"row-odd\">\n",
    "<th class=\"head\">\n",
    "<p>Format Type</p>\n",
    "</th>\n",
    "<th class=\"head\">\n",
    "<p>Data Description</p>\n",
    "</th>\n",
    "<th class=\"head\">\n",
    "<p>Reader</p>\n",
    "</th>\n",
    "<th class=\"head\">\n",
    "<p>Writer</p>\n",
    "</th>\n",
    "</tr>\n",
    "</thead>\n",
    "<tbody>\n",
    "<tr class=\"row-even\">\n",
    "<td>\n",
    "<p>text</p>\n",
    "</td>\n",
    "<td>\n",
    "<p><a class=\"reference external\" href=\"https://en.wikipedia.org/wiki/Comma-separated_values\">CSV</a></p>\n",
    "</td>\n",
    "<td>\n",
    "<p><a class=\"reference internal\" href=\"https://pandas.pydata.org/pandas-docs/stable/user_guide/io.html#io-read-csv-table\"><span class=\"std std-ref\">read_csv</span></a></p>\n",
    "</td>\n",
    "<td>\n",
    "<p><a class=\"reference internal\" href=\"https://pandas.pydata.org/pandas-docs/stable/user_guide/io.html#io-store-in-csv\"><span class=\"std std-ref\">to_csv</span></a></p>\n",
    "</td>\n",
    "</tr>\n",
    "<tr class=\"row-odd\">\n",
    "<td>\n",
    "<p>text</p>\n",
    "</td>\n",
    "<td>\n",
    "<p>Fixed-Width Text File</p>\n",
    "</td>\n",
    "<td>\n",
    "<p><a class=\"reference internal\" href=\"https://pandas.pydata.org/pandas-docs/stable/user_guide/io.html#io-fwf-reader\"><span class=\"std std-ref\">read_fwf</span></a></p>\n",
    "</td>\n",
    "<td>&nbsp;</td>\n",
    "</tr>\n",
    "<tr class=\"row-even\">\n",
    "<td>\n",
    "<p>text</p>\n",
    "</td>\n",
    "<td>\n",
    "<p><a class=\"reference external\" href=\"https://www.json.org/\">JSON</a></p>\n",
    "</td>\n",
    "<td>\n",
    "<p><a class=\"reference internal\" href=\"https://pandas.pydata.org/pandas-docs/stable/user_guide/io.html#io-json-reader\"><span class=\"std std-ref\">read_json</span></a></p>\n",
    "</td>\n",
    "<td>\n",
    "<p><a class=\"reference internal\" href=\"https://pandas.pydata.org/pandas-docs/stable/user_guide/io.html#io-json-writer\"><span class=\"std std-ref\">to_json</span></a></p>\n",
    "</td>\n",
    "</tr>\n",
    "<tr class=\"row-odd\">\n",
    "<td>\n",
    "<p>text</p>\n",
    "</td>\n",
    "<td>\n",
    "<p><a class=\"reference external\" href=\"https://en.wikipedia.org/wiki/HTML\">HTML</a></p>\n",
    "</td>\n",
    "<td>\n",
    "<p><a class=\"reference internal\" href=\"https://pandas.pydata.org/pandas-docs/stable/user_guide/io.html#io-read-html\"><span class=\"std std-ref\">read_html</span></a></p>\n",
    "</td>\n",
    "<td>\n",
    "<p><a class=\"reference internal\" href=\"https://pandas.pydata.org/pandas-docs/stable/user_guide/io.html#io-html\"><span class=\"std std-ref\">to_html</span></a></p>\n",
    "</td>\n",
    "</tr>\n",
    "<tr class=\"row-even\">\n",
    "<td>\n",
    "<p>text</p>\n",
    "</td>\n",
    "<td>\n",
    "<p>Local clipboard</p>\n",
    "</td>\n",
    "<td>\n",
    "<p><a class=\"reference internal\" href=\"https://pandas.pydata.org/pandas-docs/stable/user_guide/io.html#io-clipboard\"><span class=\"std std-ref\">read_clipboard</span></a></p>\n",
    "</td>\n",
    "<td>\n",
    "<p><a class=\"reference internal\" href=\"https://pandas.pydata.org/pandas-docs/stable/user_guide/io.html#io-clipboard\"><span class=\"std std-ref\">to_clipboard</span></a></p>\n",
    "</td>\n",
    "</tr>\n",
    "<tr class=\"row-odd\">\n",
    "<td>\n",
    "<p>binary</p>\n",
    "</td>\n",
    "<td>\n",
    "<p><a class=\"reference external\" href=\"https://en.wikipedia.org/wiki/Microsoft_Excel\">MS Excel</a></p>\n",
    "</td>\n",
    "<td>\n",
    "<p><a class=\"reference internal\" href=\"https://pandas.pydata.org/pandas-docs/stable/user_guide/io.html#io-excel-reader\"><span class=\"std std-ref\">read_excel</span></a></p>\n",
    "</td>\n",
    "<td>\n",
    "<p><a class=\"reference internal\" href=\"https://pandas.pydata.org/pandas-docs/stable/user_guide/io.html#io-excel-writer\"><span class=\"std std-ref\">to_excel</span></a></p>\n",
    "</td>\n",
    "</tr>\n",
    "<tr class=\"row-even\">\n",
    "<td>\n",
    "<p>binary</p>\n",
    "</td>\n",
    "<td>\n",
    "<p><a class=\"reference external\" href=\"http://www.opendocumentformat.org/\">OpenDocument</a></p>\n",
    "</td>\n",
    "<td>\n",
    "<p><a class=\"reference internal\" href=\"https://pandas.pydata.org/pandas-docs/stable/user_guide/io.html#io-ods\"><span class=\"std std-ref\">read_excel</span></a></p>\n",
    "</td>\n",
    "<td>&nbsp;</td>\n",
    "</tr>\n",
    "<tr class=\"row-odd\">\n",
    "<td>\n",
    "<p>binary</p>\n",
    "</td>\n",
    "<td>\n",
    "<p><a class=\"reference external\" href=\"https://support.hdfgroup.org/HDF5/whatishdf5.html\">HDF5 Format</a></p>\n",
    "</td>\n",
    "<td>\n",
    "<p><a class=\"reference internal\" href=\"https://pandas.pydata.org/pandas-docs/stable/user_guide/io.html#io-hdf5\"><span class=\"std std-ref\">read_hdf</span></a></p>\n",
    "</td>\n",
    "<td>\n",
    "<p><a class=\"reference internal\" href=\"https://pandas.pydata.org/pandas-docs/stable/user_guide/io.html#io-hdf5\"><span class=\"std std-ref\">to_hdf</span></a></p>\n",
    "</td>\n",
    "</tr>\n",
    "<tr class=\"row-even\">\n",
    "<td>\n",
    "<p>binary</p>\n",
    "</td>\n",
    "<td>\n",
    "<p><a class=\"reference external\" href=\"https://github.com/wesm/feather\">Feather Format</a></p>\n",
    "</td>\n",
    "<td>\n",
    "<p><a class=\"reference internal\" href=\"https://pandas.pydata.org/pandas-docs/stable/user_guide/io.html#io-feather\"><span class=\"std std-ref\">read_feather</span></a></p>\n",
    "</td>\n",
    "<td>\n",
    "<p><a class=\"reference internal\" href=\"https://pandas.pydata.org/pandas-docs/stable/user_guide/io.html#io-feather\"><span class=\"std std-ref\">to_feather</span></a></p>\n",
    "</td>\n",
    "</tr>\n",
    "<tr class=\"row-odd\">\n",
    "<td>\n",
    "<p>binary</p>\n",
    "</td>\n",
    "<td>\n",
    "<p><a class=\"reference external\" href=\"https://parquet.apache.org/\">Parquet Format</a></p>\n",
    "</td>\n",
    "<td>\n",
    "<p><a class=\"reference internal\" href=\"https://pandas.pydata.org/pandas-docs/stable/user_guide/io.html#io-parquet\"><span class=\"std std-ref\">read_parquet</span></a></p>\n",
    "</td>\n",
    "<td>\n",
    "<p><a class=\"reference internal\" href=\"https://pandas.pydata.org/pandas-docs/stable/user_guide/io.html#io-parquet\"><span class=\"std std-ref\">to_parquet</span></a></p>\n",
    "</td>\n",
    "</tr>\n",
    "<tr class=\"row-even\">\n",
    "<td>\n",
    "<p>binary</p>\n",
    "</td>\n",
    "<td>\n",
    "<p><a class=\"reference external\" href=\"https://orc.apache.org/\">ORC Format</a></p>\n",
    "</td>\n",
    "<td>\n",
    "<p><a class=\"reference internal\" href=\"https://pandas.pydata.org/pandas-docs/stable/user_guide/io.html#io-orc\"><span class=\"std std-ref\">read_orc</span></a></p>\n",
    "</td>\n",
    "<td>&nbsp;</td>\n",
    "</tr>\n",
    "<tr class=\"row-odd\">\n",
    "<td>\n",
    "<p>binary</p>\n",
    "</td>\n",
    "<td>\n",
    "<p><a class=\"reference external\" href=\"https://msgpack.org/index.html\">Msgpack</a></p>\n",
    "</td>\n",
    "<td>\n",
    "<p><a class=\"reference internal\" href=\"https://pandas.pydata.org/pandas-docs/stable/user_guide/io.html#io-msgpack\"><span class=\"std std-ref\">read_msgpack</span></a></p>\n",
    "</td>\n",
    "<td>\n",
    "<p><a class=\"reference internal\" href=\"https://pandas.pydata.org/pandas-docs/stable/user_guide/io.html#io-msgpack\"><span class=\"std std-ref\">to_msgpack</span></a></p>\n",
    "</td>\n",
    "</tr>\n",
    "<tr class=\"row-even\">\n",
    "<td>\n",
    "<p>binary</p>\n",
    "</td>\n",
    "<td>\n",
    "<p><a class=\"reference external\" href=\"https://en.wikipedia.org/wiki/Stata\">Stata</a></p>\n",
    "</td>\n",
    "<td>\n",
    "<p><a class=\"reference internal\" href=\"https://pandas.pydata.org/pandas-docs/stable/user_guide/io.html#io-stata-reader\"><span class=\"std std-ref\">read_stata</span></a></p>\n",
    "</td>\n",
    "<td>\n",
    "<p><a class=\"reference internal\" href=\"https://pandas.pydata.org/pandas-docs/stable/user_guide/io.html#io-stata-writer\"><span class=\"std std-ref\">to_stata</span></a></p>\n",
    "</td>\n",
    "</tr>\n",
    "<tr class=\"row-odd\">\n",
    "<td>\n",
    "<p>binary</p>\n",
    "</td>\n",
    "<td>\n",
    "<p><a class=\"reference external\" href=\"https://en.wikipedia.org/wiki/SAS_(software)\">SAS</a></p>\n",
    "</td>\n",
    "<td>\n",
    "<p><a class=\"reference internal\" href=\"https://pandas.pydata.org/pandas-docs/stable/user_guide/io.html#io-sas-reader\"><span class=\"std std-ref\">read_sas</span></a></p>\n",
    "</td>\n",
    "<td>&nbsp;</td>\n",
    "</tr>\n",
    "<tr class=\"row-even\">\n",
    "<td>\n",
    "<p>binary</p>\n",
    "</td>\n",
    "<td>\n",
    "<p><a class=\"reference external\" href=\"https://en.wikipedia.org/wiki/SPSS\">SPSS</a></p>\n",
    "</td>\n",
    "<td>\n",
    "<p><a class=\"reference internal\" href=\"https://pandas.pydata.org/pandas-docs/stable/user_guide/io.html#io-spss-reader\"><span class=\"std std-ref\">read_spss</span></a></p>\n",
    "</td>\n",
    "<td>&nbsp;</td>\n",
    "</tr>\n",
    "<tr class=\"row-odd\">\n",
    "<td>\n",
    "<p>binary</p>\n",
    "</td>\n",
    "<td>\n",
    "<p><a class=\"reference external\" href=\"https://docs.python.org/3/library/pickle.html\">Python Pickle Format</a></p>\n",
    "</td>\n",
    "<td>\n",
    "<p><a class=\"reference internal\" href=\"https://pandas.pydata.org/pandas-docs/stable/user_guide/io.html#io-pickle\"><span class=\"std std-ref\">read_pickle</span></a></p>\n",
    "</td>\n",
    "<td>\n",
    "<p><a class=\"reference internal\" href=\"https://pandas.pydata.org/pandas-docs/stable/user_guide/io.html#io-pickle\"><span class=\"std std-ref\">to_pickle</span></a></p>\n",
    "</td>\n",
    "</tr>\n",
    "<tr class=\"row-even\">\n",
    "<td>\n",
    "<p>SQL</p>\n",
    "</td>\n",
    "<td>\n",
    "<p><a class=\"reference external\" href=\"https://en.wikipedia.org/wiki/SQL\">SQL</a></p>\n",
    "</td>\n",
    "<td>\n",
    "<p><a class=\"reference internal\" href=\"https://pandas.pydata.org/pandas-docs/stable/user_guide/io.html#io-sql\"><span class=\"std std-ref\">read_sql</span></a></p>\n",
    "</td>\n",
    "<td>\n",
    "<p><a class=\"reference internal\" href=\"https://pandas.pydata.org/pandas-docs/stable/user_guide/io.html#io-sql\"><span class=\"std std-ref\">to_sql</span></a></p>\n",
    "</td>\n",
    "</tr>\n",
    "<tr class=\"row-odd\">\n",
    "<td>\n",
    "<p>SQL</p>\n",
    "</td>\n",
    "<td>\n",
    "<p><a class=\"reference external\" href=\"https://en.wikipedia.org/wiki/BigQuery\">Google BigQuery</a></p>\n",
    "</td>\n",
    "<td>\n",
    "<p><a class=\"reference internal\" href=\"https://pandas.pydata.org/pandas-docs/stable/user_guide/io.html#io-bigquery\"><span class=\"std std-ref\">read_gbq</span></a></p>\n",
    "</td>\n",
    "<td>\n",
    "<p><a class=\"reference internal\" href=\"https://pandas.pydata.org/pandas-docs/stable/user_guide/io.html#io-bigquery\"><span class=\"std std-ref\">to_gbq</span></a></p>\n",
    "</td>\n",
    "</tr>\n",
    "</tbody>\n",
    "</table>\n",
    "\n",
    "#### Reference : https://pandas.pydata.org/pandas-docs/stable/user_guide/io.html"
   ]
  },
  {
   "cell_type": "markdown",
   "id": "c47e53de",
   "metadata": {},
   "source": [
    "[Top](#Home)"
   ]
  },
  {
   "cell_type": "markdown",
   "id": "033fcb6a",
   "metadata": {},
   "source": [
    "### Importing an Excel with Pandas <a class=\"anchor\" id=\"Importing-an-Excel-with-Pandas\"></a>"
   ]
  },
  {
   "cell_type": "code",
   "execution_count": 3,
   "id": "0acb48ff",
   "metadata": {},
   "outputs": [],
   "source": [
    "# setting working directory\n",
    "os.chdir(r'C:\\Users\\Anant Awasthi\\OneDrive - Amity University\\Value Added Certification Course')"
   ]
  },
  {
   "cell_type": "code",
   "execution_count": 6,
   "id": "11f58f71",
   "metadata": {},
   "outputs": [],
   "source": [
    "# Importing Data from different sheets\n",
    "attendance_data = pd.read_excel('Data/Attendance Data.xlsx', sheet_name = 'Attendance_Data')\n",
    "holidays_data = pd.read_excel('Data/Attendance Data.xlsx', sheet_name = 'Holidays')"
   ]
  },
  {
   "cell_type": "markdown",
   "id": "29fa2857",
   "metadata": {},
   "source": [
    "[Top](#Home)"
   ]
  },
  {
   "cell_type": "code",
   "execution_count": 8,
   "id": "ebcd0117",
   "metadata": {},
   "outputs": [],
   "source": [
    "school_data = pd.read_excel('Data/School Data.xlsx')"
   ]
  },
  {
   "cell_type": "markdown",
   "id": "424001b5",
   "metadata": {},
   "source": [
    "### Exporting a dataframe to Excel using Pandas <a class=\"anchor\" id=\"Exporting-a-dataframe-to-Excel-using-Pandas\"></a>"
   ]
  },
  {
   "cell_type": "code",
   "execution_count": 7,
   "id": "d5e48b69",
   "metadata": {},
   "outputs": [],
   "source": [
    "# Exporting data to Excel\n",
    "attendance_data.to_excel('Output/attendance_data_with_index.xlsx', index = True)\n",
    "attendance_data.to_excel('Output/attendance_data_without_index.xlsx', index = False)"
   ]
  },
  {
   "cell_type": "markdown",
   "id": "1e5abdc4",
   "metadata": {},
   "source": [
    "[Top](#Home)"
   ]
  },
  {
   "cell_type": "code",
   "execution_count": 9,
   "id": "1114c82c",
   "metadata": {},
   "outputs": [],
   "source": [
    "school_data.to_excel('Output/myschooldata.xlsx', index = False)"
   ]
  }
 ],
 "metadata": {
  "kernelspec": {
   "display_name": "Python 3",
   "language": "python",
   "name": "python3"
  },
  "language_info": {
   "codemirror_mode": {
    "name": "ipython",
    "version": 3
   },
   "file_extension": ".py",
   "mimetype": "text/x-python",
   "name": "python",
   "nbconvert_exporter": "python",
   "pygments_lexer": "ipython3",
   "version": "3.7.10"
  }
 },
 "nbformat": 4,
 "nbformat_minor": 5
}

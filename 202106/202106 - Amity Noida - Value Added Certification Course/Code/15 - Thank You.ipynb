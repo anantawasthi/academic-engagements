{
 "cells": [
  {
   "cell_type": "markdown",
   "id": "1abd8211",
   "metadata": {},
   "source": [
    "<p><img src=\"https://yt3.ggpht.com/ytc/AAUvwnhHlvZsbg2EdhwXAijkRf9_z8V8V5CZuNt8dJvM=s900-c-k-c0x00ffffff-no-rj\" alt=\"\" width=\"350\" height=\"350\" /></p>"
   ]
  },
  {
   "cell_type": "markdown",
   "id": "9755a0a7",
   "metadata": {},
   "source": [
    "## Feel free to dial +91 888.469.2929 or Drop a note at anant.awasthi@outlook.com"
   ]
  }
 ],
 "metadata": {
  "kernelspec": {
   "display_name": "Python 3",
   "language": "python",
   "name": "python3"
  },
  "language_info": {
   "codemirror_mode": {
    "name": "ipython",
    "version": 3
   },
   "file_extension": ".py",
   "mimetype": "text/x-python",
   "name": "python",
   "nbconvert_exporter": "python",
   "pygments_lexer": "ipython3",
   "version": "3.7.10"
  }
 },
 "nbformat": 4,
 "nbformat_minor": 5
}

{
 "cells": [
  {
   "cell_type": "markdown",
   "id": "1abd8211",
   "metadata": {},
   "source": [
    "<p style=\"text-align: center;\"><img src=\"https://www.python.org/static/community_logos/python-logo-master-v3-TM-flattened.png\" alt=\"\" width=\"444\" height=\"146\" /></p>"
   ]
  },
  {
   "cell_type": "markdown",
   "id": "570d8800",
   "metadata": {},
   "source": [
    "<a class=\"anchor\" id=\"Home\"></a>\n",
    "## Table of Content \n",
    "* [Introduction](#Introduction)\n",
    "* [Documentation](#Documentation)\n",
    "* [Importing required libraries](#Importing-required-libraries)\n",
    "* [Tutorial ](#Tutorial-)\n",
    "* [Importing an Excel with Pandas](#Importing-an-Excel-with-Pandas)\n",
    "* [Have a look of the data](#Have-a-look-of-the-data)\n",
    "* [Types of Merge](#Types-of-Merge)\n",
    "    * [Vertical merge](#Vertical-merge)\n",
    "    * [Horizontal Merge](#Horizontal-Merge)\n",
    "        * [Non-Conditional Merge](#Non-Conditional-Merge)\n",
    "        * [Conditional Merge or Joins](#Conditional-Merge-or-Joins)\n",
    "            * [Left Join](#Left-Join)\n",
    "            * [Right Join](#Right-Join)\n",
    "\n",
    "\n",
    "\n",
    "\n"
   ]
  },
  {
   "cell_type": "markdown",
   "id": "7cefad6a",
   "metadata": {},
   "source": [
    "### The Pandas\n",
    "\n",
    "<p><img src=\"https://miro.medium.com/max/399/0*JQFkxyMKuMvxfjgd.png\" alt=\"\" width=\"399\" height=\"207\" /></p>"
   ]
  },
  {
   "cell_type": "markdown",
   "id": "74b4e07f",
   "metadata": {},
   "source": [
    "### Introduction <a class=\"anchor\" id=\"Introduction\"></a>\n",
    "Pandas is an open-source library that is built on top of NumPy library. It is a Python package that offers various data structures and operations for manipulating numerical data and time series. It is mainly popular for importing and analyzing data much easier. Pandas is fast and it has high-performance & productivity for users."
   ]
  },
  {
   "cell_type": "markdown",
   "id": "1184dc30",
   "metadata": {},
   "source": [
    "[Top](#Home)"
   ]
  },
  {
   "cell_type": "markdown",
   "id": "308471a1",
   "metadata": {},
   "source": [
    "### Documentation <a class=\"anchor\" id=\"Documentation\"></a>\n",
    "https://pandas.pydata.org/pandas-docs/stable/index.html"
   ]
  },
  {
   "cell_type": "markdown",
   "id": "2dd907e7",
   "metadata": {},
   "source": [
    "[Top](#Home)"
   ]
  },
  {
   "cell_type": "markdown",
   "id": "18002866",
   "metadata": {},
   "source": [
    "### Importing required libraries <a class=\"anchor\" id=\"Importing-required-libraries\"></a>"
   ]
  },
  {
   "cell_type": "code",
   "execution_count": 1,
   "id": "38ab01a0",
   "metadata": {},
   "outputs": [],
   "source": [
    "import pandas as pd #Import and manipulate data\n",
    "import os #Setting working directory and operating system related activities\n",
    "import datetime # working with time\n",
    "from dateutil.relativedelta import relativedelta\n",
    "from IPython.display import YouTubeVideo"
   ]
  },
  {
   "cell_type": "markdown",
   "id": "66240873",
   "metadata": {},
   "source": [
    "[Top](#Home)"
   ]
  },
  {
   "cell_type": "markdown",
   "id": "c2fc9025",
   "metadata": {},
   "source": [
    "### Tutorial <a class=\"anchor\" id=\"Tutorial\"></a>"
   ]
  },
  {
   "cell_type": "code",
   "execution_count": 2,
   "id": "dd94dd82",
   "metadata": {},
   "outputs": [
    {
     "data": {
      "image/jpeg": "[encoded data removed]",
      "text/html": [
       "\n",
       "        <iframe\n",
       "            width=\"960\"\n",
       "            height=\"540\"\n",
       "            src=\"https://www.youtube.com/embed/mHezNgNBnuA\"\n",
       "            frameborder=\"0\"\n",
       "            allowfullscreen\n",
       "        ></iframe>\n",
       "        "
      ],
      "text/plain": [
       "<IPython.lib.display.YouTubeVideo at 0x14a9e662c08>"
      ]
     },
     "execution_count": 2,
     "metadata": {},
     "output_type": "execute_result"
    }
   ],
   "source": [
    "YouTubeVideo('mHezNgNBnuA', width=960, height=540)"
   ]
  },
  {
   "cell_type": "markdown",
   "id": "fa086f94",
   "metadata": {},
   "source": [
    "[Top](#Home)"
   ]
  },
  {
   "cell_type": "markdown",
   "id": "033fcb6a",
   "metadata": {},
   "source": [
    "### Importing an Excel with Pandas <a class=\"anchor\" id=\"Importing-an-Excel-with-Pandas\"></a>"
   ]
  },
  {
   "cell_type": "code",
   "execution_count": 3,
   "id": "0acb48ff",
   "metadata": {},
   "outputs": [],
   "source": [
    "# setting working directory\n",
    "os.chdir(r'C:\\Users\\Anant Awasthi\\OneDrive - Amity University\\Value Added Certification Course')"
   ]
  },
  {
   "cell_type": "code",
   "execution_count": 4,
   "id": "11f58f71",
   "metadata": {},
   "outputs": [],
   "source": [
    "# Importing Data from different sheets\n",
    "faculty_data = pd.read_excel('Data/University_Faculty_Dataset.xlsx', sheet_name = 'FacultyData')\n",
    "dob_data = pd.read_excel('Data/University_Faculty_Dataset.xlsx', sheet_name = 'DOBData')\n",
    "department_data = pd.read_excel('Data/University_Faculty_Dataset.xlsx', sheet_name = 'DepartmentData')"
   ]
  },
  {
   "cell_type": "markdown",
   "id": "29fa2857",
   "metadata": {},
   "source": [
    "[Top](#Home)"
   ]
  },
  {
   "cell_type": "markdown",
   "id": "235e42db",
   "metadata": {},
   "source": [
    "### Have a look of the data"
   ]
  },
  {
   "cell_type": "code",
   "execution_count": 5,
   "id": "9a36ffc1",
   "metadata": {
    "scrolled": false
   },
   "outputs": [
    {
     "data": {
      "text/html": [
       "<div>\n",
       "<style scoped>\n",
       "    .dataframe tbody tr th:only-of-type {\n",
       "        vertical-align: middle;\n",
       "    }\n",
       "\n",
       "    .dataframe tbody tr th {\n",
       "        vertical-align: top;\n",
       "    }\n",
       "\n",
       "    .dataframe thead th {\n",
       "        text-align: right;\n",
       "    }\n",
       "</style>\n",
       "<table border=\"1\" class=\"dataframe\">\n",
       "  <thead>\n",
       "    <tr style=\"text-align: right;\">\n",
       "      <th></th>\n",
       "      <th>FacultyID</th>\n",
       "      <th>FacultyDepartment</th>\n",
       "    </tr>\n",
       "  </thead>\n",
       "  <tbody>\n",
       "    <tr>\n",
       "      <th>0</th>\n",
       "      <td>F0401</td>\n",
       "      <td>D01</td>\n",
       "    </tr>\n",
       "    <tr>\n",
       "      <th>1</th>\n",
       "      <td>F0584</td>\n",
       "      <td>D01</td>\n",
       "    </tr>\n",
       "    <tr>\n",
       "      <th>2</th>\n",
       "      <td>F0683</td>\n",
       "      <td>D01</td>\n",
       "    </tr>\n",
       "    <tr>\n",
       "      <th>3</th>\n",
       "      <td>F0078</td>\n",
       "      <td>D01</td>\n",
       "    </tr>\n",
       "    <tr>\n",
       "      <th>4</th>\n",
       "      <td>F0902</td>\n",
       "      <td>D01</td>\n",
       "    </tr>\n",
       "  </tbody>\n",
       "</table>\n",
       "</div>"
      ],
      "text/plain": [
       "  FacultyID FacultyDepartment\n",
       "0     F0401               D01\n",
       "1     F0584               D01\n",
       "2     F0683               D01\n",
       "3     F0078               D01\n",
       "4     F0902               D01"
      ]
     },
     "execution_count": 5,
     "metadata": {},
     "output_type": "execute_result"
    }
   ],
   "source": [
    "# View top 10 Rows\n",
    "faculty_data.head()"
   ]
  },
  {
   "cell_type": "markdown",
   "id": "4ef44b8a",
   "metadata": {},
   "source": [
    "[Top](#Home)"
   ]
  },
  {
   "cell_type": "code",
   "execution_count": 6,
   "id": "35faf4a2",
   "metadata": {
    "scrolled": false
   },
   "outputs": [
    {
     "data": {
      "text/html": [
       "<div>\n",
       "<style scoped>\n",
       "    .dataframe tbody tr th:only-of-type {\n",
       "        vertical-align: middle;\n",
       "    }\n",
       "\n",
       "    .dataframe tbody tr th {\n",
       "        vertical-align: top;\n",
       "    }\n",
       "\n",
       "    .dataframe thead th {\n",
       "        text-align: right;\n",
       "    }\n",
       "</style>\n",
       "<table border=\"1\" class=\"dataframe\">\n",
       "  <thead>\n",
       "    <tr style=\"text-align: right;\">\n",
       "      <th></th>\n",
       "      <th>FacultyID</th>\n",
       "      <th>JoiningDate</th>\n",
       "    </tr>\n",
       "  </thead>\n",
       "  <tbody>\n",
       "    <tr>\n",
       "      <th>0</th>\n",
       "      <td>F0401</td>\n",
       "      <td>2005-11-30</td>\n",
       "    </tr>\n",
       "    <tr>\n",
       "      <th>1</th>\n",
       "      <td>F0584</td>\n",
       "      <td>2007-01-25</td>\n",
       "    </tr>\n",
       "    <tr>\n",
       "      <th>2</th>\n",
       "      <td>F0683</td>\n",
       "      <td>2007-12-26</td>\n",
       "    </tr>\n",
       "    <tr>\n",
       "      <th>3</th>\n",
       "      <td>F0078</td>\n",
       "      <td>2008-02-15</td>\n",
       "    </tr>\n",
       "    <tr>\n",
       "      <th>4</th>\n",
       "      <td>F0902</td>\n",
       "      <td>2008-04-14</td>\n",
       "    </tr>\n",
       "  </tbody>\n",
       "</table>\n",
       "</div>"
      ],
      "text/plain": [
       "  FacultyID JoiningDate\n",
       "0     F0401  2005-11-30\n",
       "1     F0584  2007-01-25\n",
       "2     F0683  2007-12-26\n",
       "3     F0078  2008-02-15\n",
       "4     F0902  2008-04-14"
      ]
     },
     "execution_count": 6,
     "metadata": {},
     "output_type": "execute_result"
    }
   ],
   "source": [
    "# View top 10 Rows\n",
    "dob_data.head()"
   ]
  },
  {
   "cell_type": "markdown",
   "id": "62f1bdb6",
   "metadata": {},
   "source": [
    "[Top](#Home)"
   ]
  },
  {
   "cell_type": "code",
   "execution_count": 7,
   "id": "25bf8baa",
   "metadata": {
    "scrolled": true
   },
   "outputs": [
    {
     "data": {
      "text/html": [
       "<div>\n",
       "<style scoped>\n",
       "    .dataframe tbody tr th:only-of-type {\n",
       "        vertical-align: middle;\n",
       "    }\n",
       "\n",
       "    .dataframe tbody tr th {\n",
       "        vertical-align: top;\n",
       "    }\n",
       "\n",
       "    .dataframe thead th {\n",
       "        text-align: right;\n",
       "    }\n",
       "</style>\n",
       "<table border=\"1\" class=\"dataframe\">\n",
       "  <thead>\n",
       "    <tr style=\"text-align: right;\">\n",
       "      <th></th>\n",
       "      <th>FacultyDepartment</th>\n",
       "      <th>DepartmentName</th>\n",
       "    </tr>\n",
       "  </thead>\n",
       "  <tbody>\n",
       "    <tr>\n",
       "      <th>0</th>\n",
       "      <td>D01</td>\n",
       "      <td>Mathematics</td>\n",
       "    </tr>\n",
       "    <tr>\n",
       "      <th>1</th>\n",
       "      <td>D02</td>\n",
       "      <td>Statistics</td>\n",
       "    </tr>\n",
       "    <tr>\n",
       "      <th>2</th>\n",
       "      <td>D03</td>\n",
       "      <td>Computer Science</td>\n",
       "    </tr>\n",
       "    <tr>\n",
       "      <th>3</th>\n",
       "      <td>D04</td>\n",
       "      <td>Physics</td>\n",
       "    </tr>\n",
       "    <tr>\n",
       "      <th>4</th>\n",
       "      <td>D05</td>\n",
       "      <td>Chemistry</td>\n",
       "    </tr>\n",
       "  </tbody>\n",
       "</table>\n",
       "</div>"
      ],
      "text/plain": [
       "  FacultyDepartment    DepartmentName\n",
       "0               D01       Mathematics\n",
       "1               D02        Statistics\n",
       "2               D03  Computer Science\n",
       "3               D04           Physics\n",
       "4               D05         Chemistry"
      ]
     },
     "execution_count": 7,
     "metadata": {},
     "output_type": "execute_result"
    }
   ],
   "source": [
    "# View top 10 Rows\n",
    "department_data.head()"
   ]
  },
  {
   "cell_type": "markdown",
   "id": "33721107",
   "metadata": {},
   "source": [
    "[Top](#Home)"
   ]
  },
  {
   "cell_type": "markdown",
   "id": "6c5e59cb",
   "metadata": {},
   "source": [
    "### Types of Merge"
   ]
  },
  {
   "cell_type": "markdown",
   "id": "f71e2bee",
   "metadata": {},
   "source": [
    "#### Vertical Merge\n",
    "    \n",
    "<p><img src=\"https://pandas.pydata.org/pandas-docs/version/0.25.3/_images/merging_append3.png\" alt=\"\" width=\"370\" height=\"375\" /></p>\n",
    "\n",
    "#### Horizontal Merge\n",
    "<p><img src=\"https://pandas.pydata.org/pandas-docs/version/0.18/_images/merging_concat_axis1.png\" alt=\"\" width=\"630\" height=\"200\" /></p>"
   ]
  },
  {
   "cell_type": "markdown",
   "id": "be00aaed",
   "metadata": {},
   "source": [
    "[Top](#Home)"
   ]
  },
  {
   "cell_type": "markdown",
   "id": "d5b09f37",
   "metadata": {},
   "source": [
    "### Vertical Merge"
   ]
  },
  {
   "cell_type": "code",
   "execution_count": 8,
   "id": "0e00f4ba",
   "metadata": {},
   "outputs": [
    {
     "data": {
      "text/plain": [
       "(115, 2)"
      ]
     },
     "execution_count": 8,
     "metadata": {},
     "output_type": "execute_result"
    }
   ],
   "source": [
    "faculty_data.shape"
   ]
  },
  {
   "cell_type": "code",
   "execution_count": 9,
   "id": "19f3c571",
   "metadata": {},
   "outputs": [
    {
     "name": "stdout",
     "output_type": "stream",
     "text": [
      "(55, 2) (60, 2)\n"
     ]
    }
   ],
   "source": [
    "df1 = faculty_data[:55]\n",
    "df2 = faculty_data[55:]\n",
    "print(df1.shape, df2.shape)"
   ]
  },
  {
   "cell_type": "code",
   "execution_count": 10,
   "id": "85131645",
   "metadata": {
    "scrolled": true
   },
   "outputs": [
    {
     "data": {
      "text/html": [
       "<div>\n",
       "<style scoped>\n",
       "    .dataframe tbody tr th:only-of-type {\n",
       "        vertical-align: middle;\n",
       "    }\n",
       "\n",
       "    .dataframe tbody tr th {\n",
       "        vertical-align: top;\n",
       "    }\n",
       "\n",
       "    .dataframe thead th {\n",
       "        text-align: right;\n",
       "    }\n",
       "</style>\n",
       "<table border=\"1\" class=\"dataframe\">\n",
       "  <thead>\n",
       "    <tr style=\"text-align: right;\">\n",
       "      <th></th>\n",
       "      <th>FacultyID</th>\n",
       "      <th>FacultyDepartment</th>\n",
       "    </tr>\n",
       "  </thead>\n",
       "  <tbody>\n",
       "    <tr>\n",
       "      <th>0</th>\n",
       "      <td>F0401</td>\n",
       "      <td>D01</td>\n",
       "    </tr>\n",
       "    <tr>\n",
       "      <th>1</th>\n",
       "      <td>F0584</td>\n",
       "      <td>D01</td>\n",
       "    </tr>\n",
       "    <tr>\n",
       "      <th>2</th>\n",
       "      <td>F0683</td>\n",
       "      <td>D01</td>\n",
       "    </tr>\n",
       "    <tr>\n",
       "      <th>3</th>\n",
       "      <td>F0078</td>\n",
       "      <td>D01</td>\n",
       "    </tr>\n",
       "    <tr>\n",
       "      <th>4</th>\n",
       "      <td>F0902</td>\n",
       "      <td>D01</td>\n",
       "    </tr>\n",
       "  </tbody>\n",
       "</table>\n",
       "</div>"
      ],
      "text/plain": [
       "  FacultyID FacultyDepartment\n",
       "0     F0401               D01\n",
       "1     F0584               D01\n",
       "2     F0683               D01\n",
       "3     F0078               D01\n",
       "4     F0902               D01"
      ]
     },
     "execution_count": 10,
     "metadata": {},
     "output_type": "execute_result"
    }
   ],
   "source": [
    "df3 = pd.concat([df1, df2], axis = 0)\n",
    "df3.head()"
   ]
  },
  {
   "cell_type": "markdown",
   "id": "24601a5d",
   "metadata": {},
   "source": [
    "[Top](#Home)"
   ]
  },
  {
   "cell_type": "markdown",
   "id": "1477bbc1",
   "metadata": {},
   "source": [
    "### Horizontal Merge\n",
    "* Non - Conditional Merge <br>\n",
    "* Conditional Merge often referred as join"
   ]
  },
  {
   "cell_type": "markdown",
   "id": "04855600",
   "metadata": {},
   "source": [
    "#### Non-Conditional Merge"
   ]
  },
  {
   "cell_type": "code",
   "execution_count": 11,
   "id": "f35100e3",
   "metadata": {},
   "outputs": [
    {
     "data": {
      "text/html": [
       "<div>\n",
       "<style scoped>\n",
       "    .dataframe tbody tr th:only-of-type {\n",
       "        vertical-align: middle;\n",
       "    }\n",
       "\n",
       "    .dataframe tbody tr th {\n",
       "        vertical-align: top;\n",
       "    }\n",
       "\n",
       "    .dataframe thead th {\n",
       "        text-align: right;\n",
       "    }\n",
       "</style>\n",
       "<table border=\"1\" class=\"dataframe\">\n",
       "  <thead>\n",
       "    <tr style=\"text-align: right;\">\n",
       "      <th></th>\n",
       "      <th>FacultyID</th>\n",
       "    </tr>\n",
       "  </thead>\n",
       "  <tbody>\n",
       "    <tr>\n",
       "      <th>0</th>\n",
       "      <td>F0401</td>\n",
       "    </tr>\n",
       "    <tr>\n",
       "      <th>1</th>\n",
       "      <td>F0584</td>\n",
       "    </tr>\n",
       "    <tr>\n",
       "      <th>2</th>\n",
       "      <td>F0683</td>\n",
       "    </tr>\n",
       "    <tr>\n",
       "      <th>3</th>\n",
       "      <td>F0078</td>\n",
       "    </tr>\n",
       "    <tr>\n",
       "      <th>4</th>\n",
       "      <td>F0902</td>\n",
       "    </tr>\n",
       "  </tbody>\n",
       "</table>\n",
       "</div>"
      ],
      "text/plain": [
       "  FacultyID\n",
       "0     F0401\n",
       "1     F0584\n",
       "2     F0683\n",
       "3     F0078\n",
       "4     F0902"
      ]
     },
     "execution_count": 11,
     "metadata": {},
     "output_type": "execute_result"
    }
   ],
   "source": [
    "df1 = faculty_data.iloc[:, 0:1]\n",
    "df1.head()"
   ]
  },
  {
   "cell_type": "code",
   "execution_count": 12,
   "id": "fd9830aa",
   "metadata": {},
   "outputs": [
    {
     "data": {
      "text/html": [
       "<div>\n",
       "<style scoped>\n",
       "    .dataframe tbody tr th:only-of-type {\n",
       "        vertical-align: middle;\n",
       "    }\n",
       "\n",
       "    .dataframe tbody tr th {\n",
       "        vertical-align: top;\n",
       "    }\n",
       "\n",
       "    .dataframe thead th {\n",
       "        text-align: right;\n",
       "    }\n",
       "</style>\n",
       "<table border=\"1\" class=\"dataframe\">\n",
       "  <thead>\n",
       "    <tr style=\"text-align: right;\">\n",
       "      <th></th>\n",
       "      <th>FacultyDepartment</th>\n",
       "    </tr>\n",
       "  </thead>\n",
       "  <tbody>\n",
       "    <tr>\n",
       "      <th>0</th>\n",
       "      <td>D01</td>\n",
       "    </tr>\n",
       "    <tr>\n",
       "      <th>1</th>\n",
       "      <td>D01</td>\n",
       "    </tr>\n",
       "    <tr>\n",
       "      <th>2</th>\n",
       "      <td>D01</td>\n",
       "    </tr>\n",
       "    <tr>\n",
       "      <th>3</th>\n",
       "      <td>D01</td>\n",
       "    </tr>\n",
       "    <tr>\n",
       "      <th>4</th>\n",
       "      <td>D01</td>\n",
       "    </tr>\n",
       "  </tbody>\n",
       "</table>\n",
       "</div>"
      ],
      "text/plain": [
       "  FacultyDepartment\n",
       "0               D01\n",
       "1               D01\n",
       "2               D01\n",
       "3               D01\n",
       "4               D01"
      ]
     },
     "execution_count": 12,
     "metadata": {},
     "output_type": "execute_result"
    }
   ],
   "source": [
    "df2 = faculty_data.iloc[:, 1:2]\n",
    "df2.head()"
   ]
  },
  {
   "cell_type": "code",
   "execution_count": 13,
   "id": "6bcccd3f",
   "metadata": {
    "scrolled": true
   },
   "outputs": [
    {
     "data": {
      "text/html": [
       "<div>\n",
       "<style scoped>\n",
       "    .dataframe tbody tr th:only-of-type {\n",
       "        vertical-align: middle;\n",
       "    }\n",
       "\n",
       "    .dataframe tbody tr th {\n",
       "        vertical-align: top;\n",
       "    }\n",
       "\n",
       "    .dataframe thead th {\n",
       "        text-align: right;\n",
       "    }\n",
       "</style>\n",
       "<table border=\"1\" class=\"dataframe\">\n",
       "  <thead>\n",
       "    <tr style=\"text-align: right;\">\n",
       "      <th></th>\n",
       "      <th>FacultyID</th>\n",
       "      <th>FacultyDepartment</th>\n",
       "    </tr>\n",
       "  </thead>\n",
       "  <tbody>\n",
       "    <tr>\n",
       "      <th>0</th>\n",
       "      <td>F0401</td>\n",
       "      <td>D01</td>\n",
       "    </tr>\n",
       "    <tr>\n",
       "      <th>1</th>\n",
       "      <td>F0584</td>\n",
       "      <td>D01</td>\n",
       "    </tr>\n",
       "    <tr>\n",
       "      <th>2</th>\n",
       "      <td>F0683</td>\n",
       "      <td>D01</td>\n",
       "    </tr>\n",
       "    <tr>\n",
       "      <th>3</th>\n",
       "      <td>F0078</td>\n",
       "      <td>D01</td>\n",
       "    </tr>\n",
       "    <tr>\n",
       "      <th>4</th>\n",
       "      <td>F0902</td>\n",
       "      <td>D01</td>\n",
       "    </tr>\n",
       "  </tbody>\n",
       "</table>\n",
       "</div>"
      ],
      "text/plain": [
       "  FacultyID FacultyDepartment\n",
       "0     F0401               D01\n",
       "1     F0584               D01\n",
       "2     F0683               D01\n",
       "3     F0078               D01\n",
       "4     F0902               D01"
      ]
     },
     "execution_count": 13,
     "metadata": {},
     "output_type": "execute_result"
    }
   ],
   "source": [
    "df3 = pd.concat([df1, df2], axis = 1)\n",
    "df3.head()"
   ]
  },
  {
   "cell_type": "markdown",
   "id": "ba85f6f9",
   "metadata": {},
   "source": [
    "[Top](#Home)"
   ]
  },
  {
   "cell_type": "markdown",
   "id": "0779c49b",
   "metadata": {},
   "source": [
    "### Conditional Merge or Joins"
   ]
  },
  {
   "cell_type": "markdown",
   "id": "a44cb609",
   "metadata": {},
   "source": [
    "#### Be sure that:\n",
    "* Both Data should have a common field called common key\n",
    "* There should be no duplicate in the common key in the reference table\n",
    "* Data type of the columns (common key) is same (not necessary)\n",
    "* Reference : https://pandas.pydata.org/pandas-docs/stable/reference/api/pandas.DataFrame.merge.html\n",
    "\n",
    "<p><img src=\"https://devopedia.org/images/article/306/8044.1610691375.png\" alt=\"\" width=\"1072\" height=\"422\" /></p>"
   ]
  },
  {
   "cell_type": "markdown",
   "id": "ffc75359",
   "metadata": {},
   "source": [
    "[Top](#Home)"
   ]
  },
  {
   "cell_type": "markdown",
   "id": "ec228f42",
   "metadata": {},
   "source": [
    "#### Left Join"
   ]
  },
  {
   "cell_type": "code",
   "execution_count": 14,
   "id": "38312cad",
   "metadata": {},
   "outputs": [
    {
     "data": {
      "text/html": [
       "<div>\n",
       "<style scoped>\n",
       "    .dataframe tbody tr th:only-of-type {\n",
       "        vertical-align: middle;\n",
       "    }\n",
       "\n",
       "    .dataframe tbody tr th {\n",
       "        vertical-align: top;\n",
       "    }\n",
       "\n",
       "    .dataframe thead th {\n",
       "        text-align: right;\n",
       "    }\n",
       "</style>\n",
       "<table border=\"1\" class=\"dataframe\">\n",
       "  <thead>\n",
       "    <tr style=\"text-align: right;\">\n",
       "      <th></th>\n",
       "      <th>FacultyID</th>\n",
       "      <th>FacultyDepartment</th>\n",
       "    </tr>\n",
       "  </thead>\n",
       "  <tbody>\n",
       "    <tr>\n",
       "      <th>0</th>\n",
       "      <td>F0401</td>\n",
       "      <td>D01</td>\n",
       "    </tr>\n",
       "    <tr>\n",
       "      <th>1</th>\n",
       "      <td>F0584</td>\n",
       "      <td>D01</td>\n",
       "    </tr>\n",
       "    <tr>\n",
       "      <th>2</th>\n",
       "      <td>F0683</td>\n",
       "      <td>D01</td>\n",
       "    </tr>\n",
       "    <tr>\n",
       "      <th>3</th>\n",
       "      <td>F0078</td>\n",
       "      <td>D01</td>\n",
       "    </tr>\n",
       "    <tr>\n",
       "      <th>4</th>\n",
       "      <td>F0902</td>\n",
       "      <td>D01</td>\n",
       "    </tr>\n",
       "  </tbody>\n",
       "</table>\n",
       "</div>"
      ],
      "text/plain": [
       "  FacultyID FacultyDepartment\n",
       "0     F0401               D01\n",
       "1     F0584               D01\n",
       "2     F0683               D01\n",
       "3     F0078               D01\n",
       "4     F0902               D01"
      ]
     },
     "execution_count": 14,
     "metadata": {},
     "output_type": "execute_result"
    }
   ],
   "source": [
    "faculty_data.head()"
   ]
  },
  {
   "cell_type": "code",
   "execution_count": 15,
   "id": "699c7c08",
   "metadata": {},
   "outputs": [
    {
     "data": {
      "text/html": [
       "<div>\n",
       "<style scoped>\n",
       "    .dataframe tbody tr th:only-of-type {\n",
       "        vertical-align: middle;\n",
       "    }\n",
       "\n",
       "    .dataframe tbody tr th {\n",
       "        vertical-align: top;\n",
       "    }\n",
       "\n",
       "    .dataframe thead th {\n",
       "        text-align: right;\n",
       "    }\n",
       "</style>\n",
       "<table border=\"1\" class=\"dataframe\">\n",
       "  <thead>\n",
       "    <tr style=\"text-align: right;\">\n",
       "      <th></th>\n",
       "      <th>FacultyDepartment</th>\n",
       "      <th>DepartmentName</th>\n",
       "    </tr>\n",
       "  </thead>\n",
       "  <tbody>\n",
       "    <tr>\n",
       "      <th>0</th>\n",
       "      <td>D01</td>\n",
       "      <td>Mathematics</td>\n",
       "    </tr>\n",
       "    <tr>\n",
       "      <th>1</th>\n",
       "      <td>D02</td>\n",
       "      <td>Statistics</td>\n",
       "    </tr>\n",
       "    <tr>\n",
       "      <th>2</th>\n",
       "      <td>D03</td>\n",
       "      <td>Computer Science</td>\n",
       "    </tr>\n",
       "    <tr>\n",
       "      <th>3</th>\n",
       "      <td>D04</td>\n",
       "      <td>Physics</td>\n",
       "    </tr>\n",
       "    <tr>\n",
       "      <th>4</th>\n",
       "      <td>D05</td>\n",
       "      <td>Chemistry</td>\n",
       "    </tr>\n",
       "  </tbody>\n",
       "</table>\n",
       "</div>"
      ],
      "text/plain": [
       "  FacultyDepartment    DepartmentName\n",
       "0               D01       Mathematics\n",
       "1               D02        Statistics\n",
       "2               D03  Computer Science\n",
       "3               D04           Physics\n",
       "4               D05         Chemistry"
      ]
     },
     "execution_count": 15,
     "metadata": {},
     "output_type": "execute_result"
    }
   ],
   "source": [
    "department_data.head()"
   ]
  },
  {
   "cell_type": "code",
   "execution_count": 16,
   "id": "f25cd3e8",
   "metadata": {},
   "outputs": [
    {
     "data": {
      "text/plain": [
       "(115, 2)"
      ]
     },
     "execution_count": 16,
     "metadata": {},
     "output_type": "execute_result"
    }
   ],
   "source": [
    "faculty_data.shape"
   ]
  },
  {
   "cell_type": "code",
   "execution_count": 17,
   "id": "ee950f7b",
   "metadata": {},
   "outputs": [
    {
     "data": {
      "text/html": [
       "<div>\n",
       "<style scoped>\n",
       "    .dataframe tbody tr th:only-of-type {\n",
       "        vertical-align: middle;\n",
       "    }\n",
       "\n",
       "    .dataframe tbody tr th {\n",
       "        vertical-align: top;\n",
       "    }\n",
       "\n",
       "    .dataframe thead th {\n",
       "        text-align: right;\n",
       "    }\n",
       "</style>\n",
       "<table border=\"1\" class=\"dataframe\">\n",
       "  <thead>\n",
       "    <tr style=\"text-align: right;\">\n",
       "      <th></th>\n",
       "      <th>FacultyID</th>\n",
       "      <th>FacultyDepartment</th>\n",
       "      <th>DepartmentName</th>\n",
       "    </tr>\n",
       "  </thead>\n",
       "  <tbody>\n",
       "    <tr>\n",
       "      <th>0</th>\n",
       "      <td>F0401</td>\n",
       "      <td>D01</td>\n",
       "      <td>Mathematics</td>\n",
       "    </tr>\n",
       "    <tr>\n",
       "      <th>1</th>\n",
       "      <td>F0584</td>\n",
       "      <td>D01</td>\n",
       "      <td>Mathematics</td>\n",
       "    </tr>\n",
       "    <tr>\n",
       "      <th>2</th>\n",
       "      <td>F0683</td>\n",
       "      <td>D01</td>\n",
       "      <td>Mathematics</td>\n",
       "    </tr>\n",
       "    <tr>\n",
       "      <th>3</th>\n",
       "      <td>F0078</td>\n",
       "      <td>D01</td>\n",
       "      <td>Mathematics</td>\n",
       "    </tr>\n",
       "    <tr>\n",
       "      <th>4</th>\n",
       "      <td>F0902</td>\n",
       "      <td>D01</td>\n",
       "      <td>Mathematics</td>\n",
       "    </tr>\n",
       "  </tbody>\n",
       "</table>\n",
       "</div>"
      ],
      "text/plain": [
       "  FacultyID FacultyDepartment DepartmentName\n",
       "0     F0401               D01    Mathematics\n",
       "1     F0584               D01    Mathematics\n",
       "2     F0683               D01    Mathematics\n",
       "3     F0078               D01    Mathematics\n",
       "4     F0902               D01    Mathematics"
      ]
     },
     "execution_count": 17,
     "metadata": {},
     "output_type": "execute_result"
    }
   ],
   "source": [
    "left_join_data = faculty_data.merge(department_data, how = 'left', left_on = 'FacultyDepartment', right_on = 'FacultyDepartment')\n",
    "left_join_data.head()"
   ]
  },
  {
   "cell_type": "code",
   "execution_count": 18,
   "id": "3d26763c",
   "metadata": {
    "scrolled": true
   },
   "outputs": [
    {
     "data": {
      "text/plain": [
       "(115, 3)"
      ]
     },
     "execution_count": 18,
     "metadata": {},
     "output_type": "execute_result"
    }
   ],
   "source": [
    "left_join_data.shape"
   ]
  },
  {
   "cell_type": "markdown",
   "id": "ccb70041",
   "metadata": {},
   "source": [
    "[Top](#Home)"
   ]
  },
  {
   "cell_type": "markdown",
   "id": "b69fea56",
   "metadata": {},
   "source": [
    "#### Right Join"
   ]
  },
  {
   "cell_type": "code",
   "execution_count": 19,
   "id": "8750449e",
   "metadata": {},
   "outputs": [
    {
     "data": {
      "text/html": [
       "<div>\n",
       "<style scoped>\n",
       "    .dataframe tbody tr th:only-of-type {\n",
       "        vertical-align: middle;\n",
       "    }\n",
       "\n",
       "    .dataframe tbody tr th {\n",
       "        vertical-align: top;\n",
       "    }\n",
       "\n",
       "    .dataframe thead th {\n",
       "        text-align: right;\n",
       "    }\n",
       "</style>\n",
       "<table border=\"1\" class=\"dataframe\">\n",
       "  <thead>\n",
       "    <tr style=\"text-align: right;\">\n",
       "      <th></th>\n",
       "      <th>FacultyDepartment</th>\n",
       "      <th>FacultyCount</th>\n",
       "    </tr>\n",
       "  </thead>\n",
       "  <tbody>\n",
       "    <tr>\n",
       "      <th>0</th>\n",
       "      <td>D01</td>\n",
       "      <td>16</td>\n",
       "    </tr>\n",
       "    <tr>\n",
       "      <th>1</th>\n",
       "      <td>D02</td>\n",
       "      <td>13</td>\n",
       "    </tr>\n",
       "    <tr>\n",
       "      <th>2</th>\n",
       "      <td>D03</td>\n",
       "      <td>15</td>\n",
       "    </tr>\n",
       "    <tr>\n",
       "      <th>3</th>\n",
       "      <td>D05</td>\n",
       "      <td>18</td>\n",
       "    </tr>\n",
       "    <tr>\n",
       "      <th>4</th>\n",
       "      <td>D06</td>\n",
       "      <td>13</td>\n",
       "    </tr>\n",
       "    <tr>\n",
       "      <th>5</th>\n",
       "      <td>D07</td>\n",
       "      <td>18</td>\n",
       "    </tr>\n",
       "    <tr>\n",
       "      <th>6</th>\n",
       "      <td>D09</td>\n",
       "      <td>10</td>\n",
       "    </tr>\n",
       "    <tr>\n",
       "      <th>7</th>\n",
       "      <td>D10</td>\n",
       "      <td>12</td>\n",
       "    </tr>\n",
       "  </tbody>\n",
       "</table>\n",
       "</div>"
      ],
      "text/plain": [
       "  FacultyDepartment  FacultyCount\n",
       "0               D01            16\n",
       "1               D02            13\n",
       "2               D03            15\n",
       "3               D05            18\n",
       "4               D06            13\n",
       "5               D07            18\n",
       "6               D09            10\n",
       "7               D10            12"
      ]
     },
     "execution_count": 19,
     "metadata": {},
     "output_type": "execute_result"
    }
   ],
   "source": [
    "department_summary = faculty_data.groupby('FacultyDepartment').aggregate(FacultyCount=('FacultyDepartment', len)).reset_index()\n",
    "department_summary"
   ]
  },
  {
   "cell_type": "code",
   "execution_count": 20,
   "id": "85f52c74",
   "metadata": {},
   "outputs": [
    {
     "data": {
      "text/html": [
       "<div>\n",
       "<style scoped>\n",
       "    .dataframe tbody tr th:only-of-type {\n",
       "        vertical-align: middle;\n",
       "    }\n",
       "\n",
       "    .dataframe tbody tr th {\n",
       "        vertical-align: top;\n",
       "    }\n",
       "\n",
       "    .dataframe thead th {\n",
       "        text-align: right;\n",
       "    }\n",
       "</style>\n",
       "<table border=\"1\" class=\"dataframe\">\n",
       "  <thead>\n",
       "    <tr style=\"text-align: right;\">\n",
       "      <th></th>\n",
       "      <th>FacultyDepartment</th>\n",
       "      <th>DepartmentName</th>\n",
       "    </tr>\n",
       "  </thead>\n",
       "  <tbody>\n",
       "    <tr>\n",
       "      <th>0</th>\n",
       "      <td>D01</td>\n",
       "      <td>Mathematics</td>\n",
       "    </tr>\n",
       "    <tr>\n",
       "      <th>1</th>\n",
       "      <td>D02</td>\n",
       "      <td>Statistics</td>\n",
       "    </tr>\n",
       "    <tr>\n",
       "      <th>2</th>\n",
       "      <td>D03</td>\n",
       "      <td>Computer Science</td>\n",
       "    </tr>\n",
       "    <tr>\n",
       "      <th>3</th>\n",
       "      <td>D04</td>\n",
       "      <td>Physics</td>\n",
       "    </tr>\n",
       "    <tr>\n",
       "      <th>4</th>\n",
       "      <td>D05</td>\n",
       "      <td>Chemistry</td>\n",
       "    </tr>\n",
       "    <tr>\n",
       "      <th>5</th>\n",
       "      <td>D06</td>\n",
       "      <td>Biology</td>\n",
       "    </tr>\n",
       "    <tr>\n",
       "      <th>6</th>\n",
       "      <td>D07</td>\n",
       "      <td>Astrology</td>\n",
       "    </tr>\n",
       "    <tr>\n",
       "      <th>7</th>\n",
       "      <td>D08</td>\n",
       "      <td>Data Science</td>\n",
       "    </tr>\n",
       "    <tr>\n",
       "      <th>8</th>\n",
       "      <td>D09</td>\n",
       "      <td>Finance</td>\n",
       "    </tr>\n",
       "    <tr>\n",
       "      <th>9</th>\n",
       "      <td>D10</td>\n",
       "      <td>Marketing</td>\n",
       "    </tr>\n",
       "  </tbody>\n",
       "</table>\n",
       "</div>"
      ],
      "text/plain": [
       "  FacultyDepartment    DepartmentName\n",
       "0               D01       Mathematics\n",
       "1               D02        Statistics\n",
       "2               D03  Computer Science\n",
       "3               D04           Physics\n",
       "4               D05         Chemistry\n",
       "5               D06           Biology\n",
       "6               D07         Astrology\n",
       "7               D08      Data Science\n",
       "8               D09           Finance\n",
       "9               D10         Marketing"
      ]
     },
     "execution_count": 20,
     "metadata": {},
     "output_type": "execute_result"
    }
   ],
   "source": [
    "department_data"
   ]
  },
  {
   "cell_type": "code",
   "execution_count": 21,
   "id": "5cab6636",
   "metadata": {},
   "outputs": [
    {
     "data": {
      "text/html": [
       "<div>\n",
       "<style scoped>\n",
       "    .dataframe tbody tr th:only-of-type {\n",
       "        vertical-align: middle;\n",
       "    }\n",
       "\n",
       "    .dataframe tbody tr th {\n",
       "        vertical-align: top;\n",
       "    }\n",
       "\n",
       "    .dataframe thead th {\n",
       "        text-align: right;\n",
       "    }\n",
       "</style>\n",
       "<table border=\"1\" class=\"dataframe\">\n",
       "  <thead>\n",
       "    <tr style=\"text-align: right;\">\n",
       "      <th></th>\n",
       "      <th>FacultyDepartment</th>\n",
       "      <th>FacultyCount</th>\n",
       "      <th>DepartmentName</th>\n",
       "    </tr>\n",
       "  </thead>\n",
       "  <tbody>\n",
       "    <tr>\n",
       "      <th>0</th>\n",
       "      <td>D01</td>\n",
       "      <td>16.0</td>\n",
       "      <td>Mathematics</td>\n",
       "    </tr>\n",
       "    <tr>\n",
       "      <th>1</th>\n",
       "      <td>D02</td>\n",
       "      <td>13.0</td>\n",
       "      <td>Statistics</td>\n",
       "    </tr>\n",
       "    <tr>\n",
       "      <th>2</th>\n",
       "      <td>D03</td>\n",
       "      <td>15.0</td>\n",
       "      <td>Computer Science</td>\n",
       "    </tr>\n",
       "    <tr>\n",
       "      <th>3</th>\n",
       "      <td>D04</td>\n",
       "      <td>0.0</td>\n",
       "      <td>Physics</td>\n",
       "    </tr>\n",
       "    <tr>\n",
       "      <th>4</th>\n",
       "      <td>D05</td>\n",
       "      <td>18.0</td>\n",
       "      <td>Chemistry</td>\n",
       "    </tr>\n",
       "    <tr>\n",
       "      <th>5</th>\n",
       "      <td>D06</td>\n",
       "      <td>13.0</td>\n",
       "      <td>Biology</td>\n",
       "    </tr>\n",
       "    <tr>\n",
       "      <th>6</th>\n",
       "      <td>D07</td>\n",
       "      <td>18.0</td>\n",
       "      <td>Astrology</td>\n",
       "    </tr>\n",
       "    <tr>\n",
       "      <th>7</th>\n",
       "      <td>D08</td>\n",
       "      <td>0.0</td>\n",
       "      <td>Data Science</td>\n",
       "    </tr>\n",
       "    <tr>\n",
       "      <th>8</th>\n",
       "      <td>D09</td>\n",
       "      <td>10.0</td>\n",
       "      <td>Finance</td>\n",
       "    </tr>\n",
       "    <tr>\n",
       "      <th>9</th>\n",
       "      <td>D10</td>\n",
       "      <td>12.0</td>\n",
       "      <td>Marketing</td>\n",
       "    </tr>\n",
       "  </tbody>\n",
       "</table>\n",
       "</div>"
      ],
      "text/plain": [
       "  FacultyDepartment  FacultyCount    DepartmentName\n",
       "0               D01          16.0       Mathematics\n",
       "1               D02          13.0        Statistics\n",
       "2               D03          15.0  Computer Science\n",
       "3               D04           0.0           Physics\n",
       "4               D05          18.0         Chemistry\n",
       "5               D06          13.0           Biology\n",
       "6               D07          18.0         Astrology\n",
       "7               D08           0.0      Data Science\n",
       "8               D09          10.0           Finance\n",
       "9               D10          12.0         Marketing"
      ]
     },
     "execution_count": 21,
     "metadata": {},
     "output_type": "execute_result"
    }
   ],
   "source": [
    "right_join_data = department_summary.merge(department_data, how = 'right', left_on = 'FacultyDepartment', right_on = 'FacultyDepartment')\n",
    "right_join_data['FacultyCount'] = right_join_data.FacultyCount.fillna(0)\n",
    "right_join_data"
   ]
  },
  {
   "cell_type": "markdown",
   "id": "ad98c5ca",
   "metadata": {},
   "source": [
    "[Top](#Home)"
   ]
  }
 ],
 "metadata": {
  "kernelspec": {
   "display_name": "Python 3",
   "language": "python",
   "name": "python3"
  },
  "language_info": {
   "codemirror_mode": {
    "name": "ipython",
    "version": 3
   },
   "file_extension": ".py",
   "mimetype": "text/x-python",
   "name": "python",
   "nbconvert_exporter": "python",
   "pygments_lexer": "ipython3",
   "version": "3.7.10"
  }
 },
 "nbformat": 4,
 "nbformat_minor": 5
}

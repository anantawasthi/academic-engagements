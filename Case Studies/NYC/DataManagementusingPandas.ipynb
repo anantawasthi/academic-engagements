{
  "nbformat": 4,
  "nbformat_minor": 0,
  "metadata": {
    "colab": {
      "name": "DataManagementusingPandas",
      "provenance": [],
      "mount_file_id": "1No8llTg5_LjE63wZ2fx_eynM-vxftS83",
      "authorship_tag": "ABX9TyNmo9m4OAqvZtmAlrWIYD+l",
      "include_colab_link": true
    },
    "kernelspec": {
      "name": "python3",
      "display_name": "Python 3"
    },
    "language_info": {
      "name": "python"
    }
  },
  "cells": [
    {
      "cell_type": "markdown",
      "metadata": {
        "id": "view-in-github",
        "colab_type": "text"
      },
      "source": [
        "<a href=\"https://colab.research.google.com/github/anantawasthi/academic-engagements/blob/main/Case%20Studies/NYC/DataManagementusingPandas.ipynb\" target=\"_parent\"><img src=\"https://colab.research.google.com/assets/colab-badge.svg\" alt=\"Open In Colab\"/></a>"
      ]
    },
    {
      "cell_type": "code",
      "metadata": {
        "id": "RBvcmUI6ecZm"
      },
      "source": [
        "import pandas as pd\n",
        "import os\n",
        "import datetime"
      ],
      "execution_count": 1,
      "outputs": []
    },
    {
      "cell_type": "code",
      "metadata": {
        "id": "Ubgzy6oQfXTt"
      },
      "source": [
        ""
      ],
      "execution_count": null,
      "outputs": []
    }
  ]
}